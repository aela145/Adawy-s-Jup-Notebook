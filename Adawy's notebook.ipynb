{
 "cells": [
  {
   "cell_type": "markdown",
   "metadata": {},
   "source": [
    "<center>\n",
    "    <img src=\"https://cf-courses-data.s3.us.cloud-object-storage.appdomain.cloud/IBMDeveloperSkillsNetwork-DS0105EN-SkillsNetwork/labs/Module2/images/SN_web_lightmode.png\" width=\"300\" alt=\"cognitiveclass.ai logo\">\n",
    "</center>\n"
   ]
  },
  {
   "cell_type": "markdown",
   "metadata": {},
   "source": [
    "#### Add your code below following the instructions given in the course\n"
   ]
  },
  {
   "cell_type": "markdown",
   "metadata": {},
   "source": [
    "# Title: Adawy's Notebook "
   ]
  },
  {
   "cell_type": "markdown",
   "metadata": {
    "tags": []
   },
   "source": [
    "## Introduction: Hello guys and welcome to my notebook"
   ]
  },
  {
   "cell_type": "markdown",
   "metadata": {
    "tags": []
   },
   "source": [
    "Here is a list of some (not all) data science languages\n",
    "1. Python\n",
    "2. R\n",
    "3. SQL\n",
    "4. NumPy"
   ]
  },
  {
   "cell_type": "markdown",
   "metadata": {},
   "source": [
    "Here is a list of some (not all) data science libraries\n",
    "1. SciKit-Learn\n",
    "2. Keras\n",
    "3. PyTorch\n",
    "4. TensorFlow"
   ]
  },
  {
   "cell_type": "markdown",
   "metadata": {
    "tags": []
   },
   "source": [
    "Here is a list of some (not all) data science tools.\n",
    "1. MySQL\n",
    "2. PostgreSQL\n",
    "3. MongoDB \n",
    "4. Apache Cassandra\n",
    "5. Cognos Analytics"
   ]
  },
  {
   "cell_type": "markdown",
   "metadata": {
    "tags": []
   },
   "source": [
    "### Here is an introduction to arithmetic expressions using examples:\n",
    "\n",
    "An arithmetic expression is a combination of variables, constants and operators.\n",
    "\n",
    "For example,\n",
    "2 + 2 * 4 = 10\n",
    "or\n",
    "10 = 2 * 5"
   ]
  },
  {
   "cell_type": "code",
   "execution_count": 9,
   "metadata": {
    "tags": []
   },
   "outputs": [
    {
     "name": "stdout",
     "output_type": "stream",
     "text": [
      "11\n",
      "30\n"
     ]
    }
   ],
   "source": [
    "A = 5\n",
    "B = 6\n",
    "print(A+B)\n",
    "print(A*B)"
   ]
  },
  {
   "cell_type": "code",
   "execution_count": 24,
   "metadata": {
    "tags": []
   },
   "outputs": [
    {
     "name": "stdout",
     "output_type": "stream",
     "text": [
      "THe number of hours is.. *drumroll*\n",
      "2\n"
     ]
    }
   ],
   "source": [
    "#Enter the number of minutes in \"Minutes = [enter here]\"\n",
    "Minutes = 120\n",
    "Hours = Minutes // 60\n",
    "\n",
    "print(\"THe number of hours is.. *drumroll*\")\n",
    "print(Hours)"
   ]
  },
  {
   "cell_type": "markdown",
   "metadata": {},
   "source": [
    "#### Here are my objectives of learning this course:\n",
    "1. To build my first machine learning model\n",
    "2. To build a TTS model\n",
    "3. To build an AI chatbot"
   ]
  },
  {
   "cell_type": "markdown",
   "metadata": {},
   "source": [
    "Authors name: AbdAllah El-Adawy"
   ]
  },
  {
   "cell_type": "code",
   "execution_count": null,
   "metadata": {},
   "outputs": [],
   "source": []
  }
 ],
 "metadata": {
  "kernelspec": {
   "display_name": "Python",
   "language": "python",
   "name": "conda-env-python-py"
  },
  "language_info": {
   "codemirror_mode": {
    "name": "ipython",
    "version": 3
   },
   "file_extension": ".py",
   "mimetype": "text/x-python",
   "name": "python",
   "nbconvert_exporter": "python",
   "pygments_lexer": "ipython3",
   "version": "3.7.12"
  }
 },
 "nbformat": 4,
 "nbformat_minor": 4
}
